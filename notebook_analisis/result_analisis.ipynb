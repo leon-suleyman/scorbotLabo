{
 "cells": [
  {
   "cell_type": "code",
   "execution_count": 9,
   "metadata": {},
   "outputs": [],
   "source": [
    "import re\n",
    "import os\n",
    "import pandas as pd"
   ]
  },
  {
   "cell_type": "markdown",
   "metadata": {},
   "source": [
    "Levantamos los datos"
   ]
  },
  {
   "cell_type": "code",
   "execution_count": 23,
   "metadata": {},
   "outputs": [
    {
     "name": "stdout",
     "output_type": "stream",
     "text": [
      "          base  shoulder     elbow     pitch      roll  is_end_pose\n",
      "0    -0.000034  1.483386  0.000033 -0.002191 -0.001307            0\n",
      "1    -0.000034  1.483386  0.000033 -0.002191 -0.001307            0\n",
      "2    -0.000037  1.422969  0.040308 -0.042465  0.059108            0\n",
      "3    -0.000034  1.423559  0.040175 -0.044048  0.059150            0\n",
      "4    -0.000040  1.362553  0.080584 -0.082738  0.119524            0\n",
      "...        ...       ...       ...       ...       ...          ...\n",
      "1377 -1.472681  0.008104  0.983833 -0.986641  1.472225            0\n",
      "1378 -1.523080 -0.039531  1.015582 -1.015638  1.522804            0\n",
      "1379 -1.518397 -0.039438  1.015518 -1.017979  1.520428            0\n",
      "1380 -1.570678 -0.087127  1.047316 -1.047373  1.570402            1\n",
      "1381 -1.565820 -0.087195  1.047302 -1.050083  1.568794            1\n",
      "\n",
      "[1382 rows x 6 columns]\n"
     ]
    }
   ],
   "source": [
    "path = \"../testing_results/test_movimiento_0.005000.csv\"\n",
    "df_entero = pd.read_csv(path, sep=';')\n",
    "print(df_entero)"
   ]
  },
  {
   "cell_type": "markdown",
   "metadata": {},
   "source": [
    "Agregamos cual a que movimiento corresponde cada posición"
   ]
  },
  {
   "cell_type": "code",
   "execution_count": 24,
   "metadata": {},
   "outputs": [
    {
     "name": "stdout",
     "output_type": "stream",
     "text": [
      "          base  shoulder     elbow     pitch      roll  is_end_pose  \\\n",
      "0    -0.000034  1.483386  0.000033 -0.002191 -0.001307            0   \n",
      "1    -0.000034  1.483386  0.000033 -0.002191 -0.001307            0   \n",
      "2    -0.000037  1.422969  0.040308 -0.042465  0.059108            0   \n",
      "3    -0.000034  1.423559  0.040175 -0.044048  0.059150            0   \n",
      "4    -0.000040  1.362553  0.080584 -0.082738  0.119524            0   \n",
      "...        ...       ...       ...       ...       ...          ...   \n",
      "1376 -1.475483  0.008064  0.983847 -0.983902  1.475207            0   \n",
      "1377 -1.472681  0.008104  0.983833 -0.986641  1.472225            0   \n",
      "1378 -1.523080 -0.039531  1.015582 -1.015638  1.522804            0   \n",
      "1379 -1.518397 -0.039438  1.015518 -1.017979  1.520428            0   \n",
      "1380 -1.570678 -0.087127  1.047316 -1.047373  1.570402            1   \n",
      "\n",
      "      movimiento  num_goal  \n",
      "0              1         1  \n",
      "1              1         2  \n",
      "2              1         3  \n",
      "3              1         4  \n",
      "4              1         5  \n",
      "...          ...       ...  \n",
      "1376           1        65  \n",
      "1377           1        66  \n",
      "1378           1        67  \n",
      "1379           1        68  \n",
      "1380           1        69  \n",
      "\n",
      "[1381 rows x 8 columns]\n"
     ]
    }
   ],
   "source": [
    "arr_de_ceros = [0]*len(df_entero)\n",
    "arr_de_ceros_2 = [0]*len(df_entero)\n",
    "df_entero_discriminando_movimientos = df_entero.assign(movimiento=arr_de_ceros)\n",
    "df_entero_discriminando_movimientos = df_entero_discriminando_movimientos.assign(num_goal=arr_de_ceros_2)\n",
    "\n",
    "num_movimiento = 1\n",
    "num_de_goal = 1\n",
    "primer_final_encontrado = False\n",
    "\n",
    "for i, row in df_entero_discriminando_movimientos.iterrows():\n",
    "    df_entero_discriminando_movimientos.at[i, 'movimiento'] = num_movimiento\n",
    "    df_entero_discriminando_movimientos.at[i, 'num_goal'] = num_de_goal\n",
    "    num_de_goal = num_de_goal + 1\n",
    "\n",
    "    if (row['is_end_pose'] == 1) :\n",
    "        if(not primer_final_encontrado) : \n",
    "            primer_final_encontrado = True\n",
    "        else :\n",
    "            primer_final_encontrado = False\n",
    "            num_movimiento = (num_movimiento%3) + 1\n",
    "            num_de_goal = 1\n",
    "\n",
    "df_entero_discriminando_movimientos = df_entero_discriminando_movimientos.drop(index=(len(df_entero)-1))\n",
    "\n",
    "print(df_entero_discriminando_movimientos)"
   ]
  },
  {
   "cell_type": "code",
   "execution_count": 25,
   "metadata": {},
   "outputs": [],
   "source": [
    "df_primer_mov = df_entero_discriminando_movimientos.query('movimiento == 1')\n",
    "df_segundo_mov = df_entero_discriminando_movimientos.query('movimiento == 2')\n",
    "df_tercer_mov = df_entero_discriminando_movimientos.query('movimiento == 3')"
   ]
  },
  {
   "cell_type": "code",
   "execution_count": 26,
   "metadata": {},
   "outputs": [
    {
     "name": "stdout",
     "output_type": "stream",
     "text": [
      "1     9\n",
      "10    9\n",
      "16    9\n",
      "15    9\n",
      "14    9\n",
      "     ..\n",
      "61    1\n",
      "60    1\n",
      "58    1\n",
      "57    1\n",
      "69    1\n",
      "Name: num_goal, Length: 69, dtype: int64\n",
      "1     8\n",
      "12    8\n",
      "2     8\n",
      "18    8\n",
      "17    8\n",
      "     ..\n",
      "44    6\n",
      "43    6\n",
      "42    6\n",
      "41    6\n",
      "92    6\n",
      "Name: num_goal, Length: 92, dtype: int64\n",
      "1     8\n",
      "3     8\n",
      "4     8\n",
      "5     8\n",
      "6     8\n",
      "7     8\n",
      "8     8\n",
      "2     8\n",
      "9     7\n",
      "10    7\n",
      "40    6\n",
      "43    6\n",
      "42    6\n",
      "41    6\n",
      "36    6\n",
      "39    6\n",
      "38    6\n",
      "37    6\n",
      "45    6\n",
      "44    6\n",
      "49    6\n",
      "46    6\n",
      "47    6\n",
      "48    6\n",
      "34    6\n",
      "50    6\n",
      "51    6\n",
      "52    6\n",
      "53    6\n",
      "54    6\n",
      "55    6\n",
      "35    6\n",
      "29    6\n",
      "33    6\n",
      "20    6\n",
      "11    6\n",
      "12    6\n",
      "13    6\n",
      "14    6\n",
      "15    6\n",
      "16    6\n",
      "17    6\n",
      "18    6\n",
      "19    6\n",
      "21    6\n",
      "32    6\n",
      "22    6\n",
      "23    6\n",
      "24    6\n",
      "25    6\n",
      "26    6\n",
      "27    6\n",
      "28    6\n",
      "30    6\n",
      "31    6\n",
      "56    6\n",
      "Name: num_goal, dtype: int64\n"
     ]
    }
   ],
   "source": [
    "print(df_primer_mov.get('num_goal').value_counts())\n",
    "print(df_segundo_mov.get('num_goal').value_counts())\n",
    "print(df_tercer_mov.get('num_goal').value_counts())"
   ]
  },
  {
   "cell_type": "code",
   "execution_count": 27,
   "metadata": {},
   "outputs": [
    {
     "name": "stdout",
     "output_type": "stream",
     "text": [
      "          base  shoulder     elbow     pitch      roll  is_end_pose  \\\n",
      "52   -0.000116 -0.087441  1.047197 -1.049296  1.569500            1   \n",
      "53   -0.000034 -0.088147  1.047237 -1.050576  1.568467            1   \n",
      "256  -0.000031 -0.087328  1.047262 -1.049318  1.569476            1   \n",
      "257  -0.000034 -0.088270  1.047335 -1.051234  1.567977            1   \n",
      "460   0.000005 -0.087393  1.047327 -1.049312  1.569506            1   \n",
      "461  -0.000034 -0.088209  1.047401 -1.050741  1.568794            1   \n",
      "662   0.000027 -0.087406  1.047191 -1.049362  1.569449            1   \n",
      "663  -0.000034 -0.088117  1.047237 -1.050905  1.568304            1   \n",
      "864  -0.000120 -0.087442  1.047175 -1.049326  1.569485            1   \n",
      "865  -0.000034 -0.088332  1.047237 -1.051015  1.568467            1   \n",
      "1068  0.000055 -0.087368  1.047151 -1.049436  1.569508            1   \n",
      "1069 -0.000034 -0.088024  1.047204 -1.051289  1.568467            1   \n",
      "1232  0.000004  1.483402 -0.000074  0.000030  0.000019            1   \n",
      "1233  0.004746  1.483386 -0.000132 -0.001534  0.000163            1   \n",
      "1280 -0.000040  1.483406 -0.000092  0.000065  0.000039            1   \n",
      "1281  0.004302  1.483386 -0.000132 -0.000657  0.000163            1   \n",
      "1380 -1.570678 -0.087127  1.047316 -1.047373  1.570402            1   \n",
      "\n",
      "      movimiento  num_goal  \n",
      "52             1        53  \n",
      "53             1        54  \n",
      "256            1        55  \n",
      "257            1        56  \n",
      "460            1        55  \n",
      "461            1        56  \n",
      "662            1        53  \n",
      "663            1        54  \n",
      "864            1        53  \n",
      "865            1        54  \n",
      "1068           1        55  \n",
      "1069           1        56  \n",
      "1232           1        15  \n",
      "1233           1        16  \n",
      "1280           1        19  \n",
      "1281           1        20  \n",
      "1380           1        69  \n"
     ]
    }
   ],
   "source": [
    "df_primer_mov = df_primer_mov.query('is_end_pose == 1')\n",
    "print(df_primer_mov)\n",
    "df_segundo_mov = df_segundo_mov.query('is_end_pose == 1')\n",
    "df_tercer_mov = df_tercer_mov.query('is_end_pose == 1')"
   ]
  },
  {
   "cell_type": "code",
   "execution_count": null,
   "metadata": {},
   "outputs": [],
   "source": [
    "def read_results_file(file_name):\n",
    "    # create empty df\n",
    "    df = pd.DataFrame(columns=list('ab'))\n",
    "    pat = r'>+[a-zA-Z ]*<+'\n",
    "    pat2 = r'[-0-9.]*'    \n",
    "    start_save_to_df = False\n",
    "    # set path\n",
    "    with open(os.path.join(os.getcwd(),'src',file_name)) as f:\n",
    "        for row in f.readlines():            \n",
    "            if start_save_to_df:\n",
    "                val1, val2 = [float(val) for val in re.findall(pat2, row) if val]\n",
    "                # append data\n",
    "                df = df.append({'a': val1, 'b': val2}, ignore_index=True)\n",
    "            if re.search(pat, row):\n",
    "                start_save_to_df = True\n",
    "    return df"
   ]
  }
 ],
 "metadata": {
  "kernelspec": {
   "display_name": "Python 3",
   "language": "python",
   "name": "python3"
  },
  "language_info": {
   "codemirror_mode": {
    "name": "ipython",
    "version": 3
   },
   "file_extension": ".py",
   "mimetype": "text/x-python",
   "name": "python",
   "nbconvert_exporter": "python",
   "pygments_lexer": "ipython3",
   "version": "3.8.10"
  }
 },
 "nbformat": 4,
 "nbformat_minor": 2
}
