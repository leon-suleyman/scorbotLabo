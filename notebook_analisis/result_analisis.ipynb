{
 "cells": [
  {
   "cell_type": "code",
   "execution_count": 74,
   "metadata": {},
   "outputs": [],
   "source": [
    "import re\n",
    "import os\n",
    "import pandas as pd\n",
    "import matplotlib.pyplot as plot"
   ]
  },
  {
   "cell_type": "markdown",
   "metadata": {},
   "source": [
    "Levantamos los datos"
   ]
  },
  {
   "cell_type": "code",
   "execution_count": 75,
   "metadata": {},
   "outputs": [
    {
     "name": "stdout",
     "output_type": "stream",
     "text": [
      "          base  shoulder     elbow     pitch      roll  is_end_pose\n",
      "0     0.000102  1.483355  0.000033 -0.002246 -0.000490            0\n",
      "1     0.000102  1.483355  0.000033 -0.002246 -0.000490            0\n",
      "2    -0.047499  1.435757  0.031765 -0.033981  0.047107            0\n",
      "3    -0.037795  1.435844  0.031784 -0.035173  0.044935            0\n",
      "4    -0.095100  1.388158  0.063496 -0.065716  0.094705            0\n",
      "...        ...       ...       ...       ...       ...          ...\n",
      "2615  0.099285  1.438423 -0.089661  0.085083 -0.090033            0\n",
      "2616  0.044721  1.461006 -0.044822  0.042576 -0.045383            0\n",
      "2617  0.053705  1.460966 -0.044781  0.040816 -0.048366            0\n",
      "2618  0.000051  1.483449  0.000059 -0.002306 -0.000552            1\n",
      "2619  0.009867  1.483416  0.000033 -0.003178 -0.000490            1\n",
      "\n",
      "[2620 rows x 6 columns]\n"
     ]
    }
   ],
   "source": [
    "path = \"../testing_results/test_movimiento_0.010000.txt\"\n",
    "df_entero = pd.read_csv(path, sep=';')\n",
    "print(df_entero)"
   ]
  },
  {
   "cell_type": "markdown",
   "metadata": {},
   "source": [
    "Agregamos cual a que movimiento corresponde cada posición"
   ]
  },
  {
   "cell_type": "code",
   "execution_count": 76,
   "metadata": {},
   "outputs": [
    {
     "name": "stdout",
     "output_type": "stream",
     "text": [
      "          base  shoulder     elbow     pitch      roll  is_end_pose  \\\n",
      "0     0.000102  1.483355  0.000033 -0.002246 -0.000490            0   \n",
      "1     0.000102  1.483355  0.000033 -0.002246 -0.000490            0   \n",
      "2    -0.047499  1.435757  0.031765 -0.033981  0.047107            0   \n",
      "3    -0.037795  1.435844  0.031784 -0.035173  0.044935            0   \n",
      "4    -0.095100  1.388158  0.063496 -0.065716  0.094705            0   \n",
      "...        ...       ...       ...       ...       ...          ...   \n",
      "2615  0.099285  1.438423 -0.089661  0.085083 -0.090033            0   \n",
      "2616  0.044721  1.461006 -0.044822  0.042576 -0.045383            0   \n",
      "2617  0.053705  1.460966 -0.044781  0.040816 -0.048366            0   \n",
      "2618  0.000051  1.483449  0.000059 -0.002306 -0.000552            1   \n",
      "2619  0.009867  1.483416  0.000033 -0.003178 -0.000490            1   \n",
      "\n",
      "      movimiento  num_goal  es_el_esperado  \n",
      "0              1         1               1  \n",
      "1              1         1               0  \n",
      "2              1         2               1  \n",
      "3              1         2               0  \n",
      "4              1         3               1  \n",
      "...          ...       ...             ...  \n",
      "2615           3        34               0  \n",
      "2616           3        35               1  \n",
      "2617           3        35               0  \n",
      "2618           3        36               1  \n",
      "2619           3        36               0  \n",
      "\n",
      "[2620 rows x 9 columns]\n"
     ]
    }
   ],
   "source": [
    "arr_de_ceros = [0]*len(df_entero)\n",
    "arr_de_ceros_2 = [0]*len(df_entero)\n",
    "arr_de_ceros_3 = [0]*len(df_entero)\n",
    "df_entero_discriminando_movimientos = df_entero.assign(movimiento=arr_de_ceros)\n",
    "df_entero_discriminando_movimientos = df_entero_discriminando_movimientos.assign(num_goal=arr_de_ceros_2)\n",
    "df_entero_discriminando_movimientos = df_entero_discriminando_movimientos.assign(es_el_esperado=arr_de_ceros_2)\n",
    "\n",
    "\n",
    "num_movimiento = 1\n",
    "num_de_goal = 1\n",
    "primer_final_encontrado = False\n",
    "es_real = False\n",
    "\n",
    "for i, row in df_entero_discriminando_movimientos.iterrows():\n",
    "    df_entero_discriminando_movimientos.at[i, 'movimiento'] = num_movimiento\n",
    "    df_entero_discriminando_movimientos.at[i, 'num_goal'] = num_de_goal\n",
    "\n",
    "    if(not es_real) :\n",
    "        df_entero_discriminando_movimientos.at[i, 'es_el_esperado'] = 1\n",
    "        es_real = True\n",
    "    else :\n",
    "        es_real = False\n",
    "        num_de_goal = num_de_goal + 1\n",
    "        if (row['is_end_pose'] == 1) :\n",
    "            num_movimiento = (num_movimiento%3) + 1\n",
    "            num_de_goal = 1\n",
    "\n",
    "\n",
    "\n",
    "print(df_entero_discriminando_movimientos)"
   ]
  },
  {
   "cell_type": "code",
   "execution_count": 77,
   "metadata": {},
   "outputs": [],
   "source": [
    "df_primer_mov = df_entero_discriminando_movimientos.query('movimiento == 1')\n",
    "df_segundo_mov = df_entero_discriminando_movimientos.query('movimiento == 2')\n",
    "df_tercer_mov = df_entero_discriminando_movimientos.query('movimiento == 3')\n",
    "\n",
    "df_primer_mov_real = df_primer_mov.query('es_el_esperado == 0')\n",
    "df_primer_mov_esperado = df_primer_mov.query('es_el_esperado == 1')\n",
    "\n",
    "df_segundo_mov_real = df_segundo_mov.query('es_el_esperado == 0')\n",
    "df_segundo_mov_esperado = df_segundo_mov.query('es_el_esperado == 1')\n",
    "\n",
    "df_tercer_mov_real = df_tercer_mov.query('es_el_esperado == 0')\n",
    "df_tercer_mov_esperado = df_tercer_mov.query('es_el_esperado == 1')"
   ]
  },
  {
   "cell_type": "code",
   "execution_count": 78,
   "metadata": {},
   "outputs": [
    {
     "name": "stdout",
     "output_type": "stream",
     "text": [
      "1     10\n",
      "26    10\n",
      "20    10\n",
      "21    10\n",
      "22    10\n",
      "23    10\n",
      "24    10\n",
      "25    10\n",
      "27    10\n",
      "2     10\n",
      "28    10\n",
      "29    10\n",
      "30    10\n",
      "31    10\n",
      "32    10\n",
      "33    10\n",
      "19    10\n",
      "18    10\n",
      "17    10\n",
      "16    10\n",
      "15    10\n",
      "14    10\n",
      "13    10\n",
      "12    10\n",
      "11    10\n",
      "10    10\n",
      "9     10\n",
      "8     10\n",
      "7     10\n",
      "6     10\n",
      "5     10\n",
      "4     10\n",
      "3     10\n",
      "34    10\n",
      "Name: num_goal, dtype: int64\n",
      "1     10\n",
      "32    10\n",
      "34    10\n",
      "35    10\n",
      "36    10\n",
      "      ..\n",
      "26    10\n",
      "27    10\n",
      "28    10\n",
      "29    10\n",
      "61    10\n",
      "Name: num_goal, Length: 61, dtype: int64\n",
      "1     10\n",
      "2     10\n",
      "21    10\n",
      "22    10\n",
      "23    10\n",
      "24    10\n",
      "25    10\n",
      "26    10\n",
      "27    10\n",
      "28    10\n",
      "29    10\n",
      "30    10\n",
      "31    10\n",
      "32    10\n",
      "33    10\n",
      "34    10\n",
      "35    10\n",
      "20    10\n",
      "19    10\n",
      "18    10\n",
      "9     10\n",
      "3     10\n",
      "4     10\n",
      "5     10\n",
      "6     10\n",
      "7     10\n",
      "8     10\n",
      "10    10\n",
      "17    10\n",
      "11    10\n",
      "12    10\n",
      "13    10\n",
      "14    10\n",
      "15    10\n",
      "16    10\n",
      "36    10\n",
      "Name: num_goal, dtype: int64\n"
     ]
    }
   ],
   "source": [
    "print(df_primer_mov_real.get('num_goal').value_counts())\n",
    "print(df_segundo_mov_real.get('num_goal').value_counts())\n",
    "print(df_tercer_mov_real.get('num_goal').value_counts())"
   ]
  },
  {
   "cell_type": "code",
   "execution_count": 79,
   "metadata": {},
   "outputs": [
    {
     "name": "stdout",
     "output_type": "stream",
     "text": [
      "          base  shoulder     elbow     pitch      roll  is_end_pose  \\\n",
      "67   -1.561348 -0.087318  1.047138 -1.052110  1.568630            1   \n",
      "329  -1.561314 -0.087349  1.047138 -1.051946  1.568630            1   \n",
      "591  -1.560836 -0.087318  1.047204 -1.051891  1.569121            1   \n",
      "853  -1.561655 -0.087349  1.047171 -1.051836  1.568630            1   \n",
      "1115 -1.560904 -0.087379  1.047138 -1.051891  1.568630            1   \n",
      "1377 -1.560904 -0.087287  1.047270 -1.051946  1.569121            1   \n",
      "1639 -1.562474 -0.087410  1.047138 -1.051782  1.569121            1   \n",
      "1901 -1.561416 -0.087287  1.047105 -1.051946  1.568794            1   \n",
      "2163 -1.560972 -0.087226  1.047302 -1.051836  1.568957            1   \n",
      "2425 -1.561075 -0.087349  1.047105 -1.051672  1.568957            1   \n",
      "\n",
      "      movimiento  num_goal  es_el_esperado  \n",
      "67             1        34               0  \n",
      "329            1        34               0  \n",
      "591            1        34               0  \n",
      "853            1        34               0  \n",
      "1115           1        34               0  \n",
      "1377           1        34               0  \n",
      "1639           1        34               0  \n",
      "1901           1        34               0  \n",
      "2163           1        34               0  \n",
      "2425           1        34               0  \n"
     ]
    }
   ],
   "source": [
    "df_primer_mov_real = df_primer_mov_real.query('is_end_pose == 1')\n",
    "print(df_primer_mov_real)\n",
    "df_segundo_mov_real = df_segundo_mov_real.query('is_end_pose == 1')\n",
    "df_tercer_mov_real = df_tercer_mov_real.query('is_end_pose == 1')"
   ]
  },
  {
   "cell_type": "code",
   "execution_count": 80,
   "metadata": {},
   "outputs": [
    {
     "name": "stdout",
     "output_type": "stream",
     "text": [
      "          base  shoulder     elbow     pitch      roll  is_end_pose  \\\n",
      "66   -1.570737 -0.087390  1.047176 -1.049493  1.570233            1   \n",
      "328  -1.570617 -0.087428  1.047160 -1.049378  1.570229            1   \n",
      "590  -1.570645 -0.087488  1.047221 -1.049415  1.570312            1   \n",
      "852  -1.570760 -0.087415  1.047205 -1.049408  1.570228            1   \n",
      "1114 -1.570700 -0.087539  1.047141 -1.049418  1.570240            1   \n",
      "1376 -1.570690 -0.087469  1.047260 -1.049421  1.570286            1   \n",
      "1638 -1.570599 -0.087514  1.047140 -1.049349  1.570286            1   \n",
      "1900 -1.570709 -0.087376  1.047140 -1.049361  1.570358            1   \n",
      "2162 -1.570659 -0.087375  1.047326 -1.049351  1.570213            1   \n",
      "2424 -1.570607 -0.087475  1.047148 -1.049400  1.570216            1   \n",
      "\n",
      "      movimiento  num_goal  es_el_esperado  \n",
      "66             1        34               1  \n",
      "328            1        34               1  \n",
      "590            1        34               1  \n",
      "852            1        34               1  \n",
      "1114           1        34               1  \n",
      "1376           1        34               1  \n",
      "1638           1        34               1  \n",
      "1900           1        34               1  \n",
      "2162           1        34               1  \n",
      "2424           1        34               1  \n"
     ]
    }
   ],
   "source": [
    "df_primer_mov_esperado = df_primer_mov_esperado.query('is_end_pose == 1')\n",
    "print(df_primer_mov_esperado)\n",
    "df_segundo_mov_esperado = df_segundo_mov_esperado.query('is_end_pose == 1')\n",
    "df_tercer_mov_esperado = df_tercer_mov_esperado.query('is_end_pose == 1')"
   ]
  },
  {
   "cell_type": "code",
   "execution_count": 81,
   "metadata": {},
   "outputs": [
    {
     "name": "stdout",
     "output_type": "stream",
     "text": [
      "          base  shoulder     elbow     pitch      roll\n",
      "67   -1.561348 -0.087318  1.047138 -1.052110  1.568630\n",
      "329  -1.561314 -0.087349  1.047138 -1.051946  1.568630\n",
      "591  -1.560836 -0.087318  1.047204 -1.051891  1.569121\n",
      "853  -1.561655 -0.087349  1.047171 -1.051836  1.568630\n",
      "1115 -1.560904 -0.087379  1.047138 -1.051891  1.568630\n",
      "1377 -1.560904 -0.087287  1.047270 -1.051946  1.569121\n",
      "1639 -1.562474 -0.087410  1.047138 -1.051782  1.569121\n",
      "1901 -1.561416 -0.087287  1.047105 -1.051946  1.568794\n",
      "2163 -1.560972 -0.087226  1.047302 -1.051836  1.568957\n",
      "2425 -1.561075 -0.087349  1.047105 -1.051672  1.568957\n",
      "          base  shoulder     elbow     pitch      roll\n",
      "66   -1.570737 -0.087390  1.047176 -1.049493  1.570233\n",
      "328  -1.570617 -0.087428  1.047160 -1.049378  1.570229\n",
      "590  -1.570645 -0.087488  1.047221 -1.049415  1.570312\n",
      "852  -1.570760 -0.087415  1.047205 -1.049408  1.570228\n",
      "1114 -1.570700 -0.087539  1.047141 -1.049418  1.570240\n",
      "1376 -1.570690 -0.087469  1.047260 -1.049421  1.570286\n",
      "1638 -1.570599 -0.087514  1.047140 -1.049349  1.570286\n",
      "1900 -1.570709 -0.087376  1.047140 -1.049361  1.570358\n",
      "2162 -1.570659 -0.087375  1.047326 -1.049351  1.570213\n",
      "2424 -1.570607 -0.087475  1.047148 -1.049400  1.570216\n"
     ]
    }
   ],
   "source": [
    "df_primer_mov_real_juntas = df_primer_mov_real.drop(['is_end_pose','movimiento','num_goal','es_el_esperado'],axis='columns')\n",
    "print(df_primer_mov_real_juntas)\n",
    "df_segundo_mov_real_juntas = df_segundo_mov_real.drop(['is_end_pose','movimiento','num_goal','es_el_esperado'],axis='columns')\n",
    "df_tercer_mov_real_juntas = df_tercer_mov_real.drop(['is_end_pose','movimiento','num_goal','es_el_esperado'],axis='columns')\n",
    "\n",
    "df_primer_mov_esperado_juntas = df_primer_mov_esperado.drop(['is_end_pose','movimiento','num_goal','es_el_esperado'],axis='columns')\n",
    "print(df_primer_mov_esperado_juntas)\n",
    "df_segundo_mov_esperado_juntas = df_segundo_mov_esperado.drop(['is_end_pose','movimiento','num_goal','es_el_esperado'],axis='columns')\n",
    "df_tercer_mov_esperado_juntas = df_tercer_mov_esperado.drop(['is_end_pose','movimiento','num_goal','es_el_esperado'],axis='columns')\n"
   ]
  },
  {
   "cell_type": "code",
   "execution_count": 82,
   "metadata": {},
   "outputs": [
    {
     "name": "stdout",
     "output_type": "stream",
     "text": [
      "       base  shoulder     elbow     pitch      roll\n",
      "0 -0.009389 -0.000072  0.000038  0.002617  0.001603\n",
      "1 -0.009303 -0.000079  0.000022  0.002568  0.001599\n",
      "2 -0.009809 -0.000170  0.000017  0.002476  0.001191\n",
      "3 -0.009105 -0.000066  0.000034  0.002428  0.001598\n",
      "4 -0.009796 -0.000160  0.000003  0.002473  0.001610\n",
      "5 -0.009786 -0.000182 -0.000010  0.002525  0.001165\n",
      "6 -0.008125 -0.000104  0.000002  0.002433  0.001165\n",
      "7 -0.009293 -0.000089  0.000035  0.002585  0.001564\n",
      "8 -0.009687 -0.000149  0.000024  0.002485  0.001256\n",
      "9 -0.009532 -0.000126  0.000043  0.002272  0.001259\n"
     ]
    }
   ],
   "source": [
    "df_error_primer_mov = df_primer_mov_esperado_juntas.reset_index(drop=True) - df_primer_mov_real_juntas.reset_index(drop=True)\n",
    "print(df_error_primer_mov)\n",
    "df_error_segundo_mov = df_segundo_mov_esperado_juntas.reset_index(drop=True) - df_segundo_mov_real_juntas.reset_index(drop=True)\n",
    "df_error_tercer_mov = df_primer_mov_esperado_juntas.reset_index(drop=True) - df_primer_mov_real_juntas.reset_index(drop=True)"
   ]
  },
  {
   "cell_type": "code",
   "execution_count": 83,
   "metadata": {},
   "outputs": [],
   "source": [
    "df_error_primer_mov_avg = df_error_primer_mov.abs().mean()\n",
    "df_error_primer_mov_var = df_error_primer_mov.abs().var()\n",
    "\n",
    "df_error_segundo_mov_avg = df_error_segundo_mov.abs().mean()\n",
    "df_error_segundo_mov_var = df_error_segundo_mov.abs().var()\n",
    "\n",
    "df_error_tercer_mov_avg = df_error_tercer_mov.abs().mean()\n",
    "df_error_tercer_mov_var = df_error_tercer_mov.abs().var()\n"
   ]
  },
  {
   "cell_type": "code",
   "execution_count": null,
   "metadata": {},
   "outputs": [],
   "source": []
  },
  {
   "cell_type": "code",
   "execution_count": 85,
   "metadata": {},
   "outputs": [
    {
     "name": "stdout",
     "output_type": "stream",
     "text": [
      "                 1         2         3\n",
      "base      0.009383  0.006423  0.009383\n",
      "shoulder  0.000120  0.000183  0.000120\n",
      "elbow     0.000023  0.000052  0.000023\n",
      "pitch     0.002486  0.000809  0.002486\n",
      "roll      0.001401  0.001570  0.001401\n"
     ]
    },
    {
     "data": {
      "text/plain": [
       "<matplotlib.lines.Line2D at 0x7f53edbbb6a0>"
      ]
     },
     "execution_count": 85,
     "metadata": {},
     "output_type": "execute_result"
    },
    {
     "data": {
      "image/png": "[encoded data removed]",
      "text/plain": [
       "<Figure size 640x480 with 1 Axes>"
      ]
     },
     "metadata": {},
     "output_type": "display_data"
    }
   ],
   "source": [
    "df_errores_avg = pd.concat([df_error_primer_mov_avg.rename('1'), df_error_segundo_mov_avg.rename('2'), df_error_tercer_mov_avg.rename('3')], axis=1)\n",
    "print(df_errores_avg)\n",
    "\n",
    "df_errores_avg.plot(kind='bar')\n",
    "plot.title(\"Error promedio de las articulaciones en 3 movimientos con una tolerancia de 0.01\")\n",
    "plot.ylabel(\"Error Promedio\")\n",
    "plot.xlabel(\"Articulación\")\n",
    "plot.xticks(rotation=45, horizontalalignment=\"center\")\n",
    "plot.axhline(y=0.01, linewidth=1, color='red')\n"
   ]
  }
 ],
 "metadata": {
  "kernelspec": {
   "display_name": "Python 3",
   "language": "python",
   "name": "python3"
  },
  "language_info": {
   "codemirror_mode": {
    "name": "ipython",
    "version": 3
   },
   "file_extension": ".py",
   "mimetype": "text/x-python",
   "name": "python",
   "nbconvert_exporter": "python",
   "pygments_lexer": "ipython3",
   "version": "3.8.10"
  }
 },
 "nbformat": 4,
 "nbformat_minor": 2
}
