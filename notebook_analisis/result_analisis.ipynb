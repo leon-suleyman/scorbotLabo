{
 "cells": [
  {
   "cell_type": "code",
   "execution_count": 1,
   "metadata": {},
   "outputs": [],
   "source": [
    "import re\n",
    "import os\n",
    "import pandas as pd"
   ]
  },
  {
   "cell_type": "markdown",
   "metadata": {},
   "source": [
    "Levantamos los datos"
   ]
  },
  {
   "cell_type": "code",
   "execution_count": 9,
   "metadata": {},
   "outputs": [
    {
     "name": "stdout",
     "output_type": "stream",
     "text": [
      "          base  shoulder     elbow     pitch      roll  is end pose\n",
      "0    -0.000034  1.483386  0.000033 -0.002191 -0.001307            0\n",
      "1    -0.000034  1.483386  0.000033 -0.002191 -0.001307            0\n",
      "2    -0.000037  1.422969  0.040308 -0.042465  0.059108            0\n",
      "3    -0.000034  1.423559  0.040175 -0.044048  0.059150            0\n",
      "4    -0.000040  1.362553  0.080584 -0.082738  0.119524            0\n",
      "...        ...       ...       ...       ...       ...          ...\n",
      "1213 -0.000034  1.427858 -0.116575  0.112092 -0.118301            0\n",
      "1214 -0.000106  1.454263 -0.058248  0.056036 -0.059432            0\n",
      "1215 -0.000034  1.452459 -0.058304  0.054348 -0.059967            0\n",
      "1216 -0.000109  1.483373 -0.000060 -0.002149 -0.001298            1\n",
      "1217 -0.000034  1.486150 -0.000099 -0.003835 -0.001797            1\n",
      "\n",
      "[1218 rows x 6 columns]\n"
     ]
    }
   ],
   "source": [
    "path = \"../testing_results/test_movimiento_0.005000.csv\"\n",
    "df_entero = pd.read_csv(path, sep=';')\n",
    "print(df_entero)"
   ]
  },
  {
   "cell_type": "markdown",
   "metadata": {},
   "source": [
    "Agregamos cual a que movimiento corresponde cada posición"
   ]
  },
  {
   "cell_type": "code",
   "execution_count": 16,
   "metadata": {},
   "outputs": [
    {
     "name": "stdout",
     "output_type": "stream",
     "text": [
      "          base  shoulder     elbow     pitch      roll  is end pose  \\\n",
      "0    -0.000034  1.483386  0.000033 -0.002191 -0.001307            0   \n",
      "1    -0.000034  1.483386  0.000033 -0.002191 -0.001307            0   \n",
      "2    -0.000037  1.422969  0.040308 -0.042465  0.059108            0   \n",
      "3    -0.000034  1.423559  0.040175 -0.044048  0.059150            0   \n",
      "4    -0.000040  1.362553  0.080584 -0.082738  0.119524            0   \n",
      "...        ...       ...       ...       ...       ...          ...   \n",
      "1212 -0.000103  1.425153 -0.116437  0.114221 -0.117566            0   \n",
      "1213 -0.000034  1.427858 -0.116575  0.112092 -0.118301            0   \n",
      "1214 -0.000106  1.454263 -0.058248  0.056036 -0.059432            0   \n",
      "1215 -0.000034  1.452459 -0.058304  0.054348 -0.059967            0   \n",
      "1216 -0.000109  1.483373 -0.000060 -0.002149 -0.001298            1   \n",
      "\n",
      "      movimiento  \n",
      "0              1  \n",
      "1              1  \n",
      "2              1  \n",
      "3              1  \n",
      "4              1  \n",
      "...          ...  \n",
      "1212           3  \n",
      "1213           3  \n",
      "1214           3  \n",
      "1215           3  \n",
      "1216           3  \n",
      "\n",
      "[1217 rows x 7 columns]\n"
     ]
    }
   ],
   "source": [
    "arr_de_ceros = [0]*len(df_entero)\n",
    "df_entero_discriminando_movimientos = df_entero.assign(movimiento=arr_de_ceros)\n",
    "\n",
    "num_movimiento = 1\n",
    "\n",
    "for i, row in df_entero_discriminando_movimientos.iterrows():\n",
    "    df_entero_discriminando_movimientos.at[i, 'movimiento'] = num_movimiento\n",
    "    if (row['is end pose'] == 1) :\n",
    "        num_movimiento = (num_movimiento + 1)%3 + 1\n",
    "\n",
    "df_entero_discriminando_movimientos = df_entero_discriminando_movimientos.drop(index=(len(df_entero)-1))\n",
    "\n",
    "print(df_entero_discriminando_movimientos)"
   ]
  },
  {
   "cell_type": "code",
   "execution_count": null,
   "metadata": {},
   "outputs": [],
   "source": [
    "def read_results_file(file_name):\n",
    "    # create empty df\n",
    "    df = pd.DataFrame(columns=list('ab'))\n",
    "    pat = r'>+[a-zA-Z ]*<+'\n",
    "    pat2 = r'[-0-9.]*'    \n",
    "    start_save_to_df = False\n",
    "    # set path\n",
    "    with open(os.path.join(os.getcwd(),'src',file_name)) as f:\n",
    "        for row in f.readlines():            \n",
    "            if start_save_to_df:\n",
    "                val1, val2 = [float(val) for val in re.findall(pat2, row) if val]\n",
    "                # append data\n",
    "                df = df.append({'a': val1, 'b': val2}, ignore_index=True)\n",
    "            if re.search(pat, row):\n",
    "                start_save_to_df = True\n",
    "    return df"
   ]
  }
 ],
 "metadata": {
  "kernelspec": {
   "display_name": "Python 3",
   "language": "python",
   "name": "python3"
  },
  "language_info": {
   "codemirror_mode": {
    "name": "ipython",
    "version": 3
   },
   "file_extension": ".py",
   "mimetype": "text/x-python",
   "name": "python",
   "nbconvert_exporter": "python",
   "pygments_lexer": "ipython3",
   "version": "3.8.10"
  }
 },
 "nbformat": 4,
 "nbformat_minor": 2
}
