{
 "cells": [
  {
   "cell_type": "code",
   "execution_count": 18,
   "metadata": {},
   "outputs": [],
   "source": [
    "import re\n",
    "import os\n",
    "import pandas as pd\n",
    "import matplotlib.pyplot as plot"
   ]
  },
  {
   "cell_type": "code",
   "execution_count": 70,
   "metadata": {},
   "outputs": [],
   "source": [
    "tolerancias = ['0.050000', '0.035000', '0.025000', '0.020000']\n",
    "path_root = '../testing_results/test_movimiento_sin_tiempo_'\n",
    "df_list = []"
   ]
  },
  {
   "cell_type": "markdown",
   "metadata": {},
   "source": [
    "Levantamos los datos"
   ]
  },
  {
   "cell_type": "code",
   "execution_count": 72,
   "metadata": {},
   "outputs": [
    {
     "name": "stdout",
     "output_type": "stream",
     "text": [
      "          base  shoulder     elbow     pitch      roll  is_end_pose  move_id\n",
      "0     0.006965  1.483416 -0.000132  0.020983 -0.003105            0        0\n",
      "1     0.006965  1.483386 -0.000132  0.020709 -0.003105            0        0\n",
      "2    -0.039440  1.437223  0.030671 -0.010179  0.043148            0        0\n",
      "3    -0.034347  1.439375  0.030501  0.008382  0.041830            0        0\n",
      "4    -0.085845  1.391029  0.061474 -0.041341  0.089401            0        0\n",
      "...        ...       ...       ...       ...       ...          ...      ...\n",
      "2453  0.053710  1.456379 -0.036055  0.044195 -0.055440            0        0\n",
      "2454  0.059339  1.459123 -0.036127  0.063223 -0.056373            0        0\n",
      "2455 -0.000161  1.483462  0.000054  0.008603 -0.001299            1        0\n",
      "2456  0.007306  1.485720 -0.000132  0.027831 -0.002124            1        0\n",
      "2457  0.000000  0.000000  0.000000  0.000000  0.000000            2        3\n",
      "\n",
      "[2458 rows x 7 columns]\n"
     ]
    }
   ],
   "source": [
    "path = \"../testing_results/test_movimiento_sin_tiempo_0.020000.txt\"\n",
    "df_entero = pd.read_csv(path, sep=';')\n",
    "\n",
    "for tolerancia in tolerancias :\n",
    "    path = path_root + tolerancia + '.txt'\n",
    "    df_list.append(pd.read_csv(path, sep=';'))\n",
    "print(df_list[3])"
   ]
  },
  {
   "cell_type": "markdown",
   "metadata": {},
   "source": [
    "Agregamos cual a que movimiento corresponde cada posición"
   ]
  },
  {
   "cell_type": "code",
   "execution_count": 73,
   "metadata": {},
   "outputs": [],
   "source": [
    "def discriminar_movimientos_goals_reales_y_esperados(df) :\n",
    "\n",
    "    arr_de_ceros = [0]*len(df)\n",
    "    arr_de_ceros_2 = [0]*len(df)\n",
    "    df_discriminando_movimientos = df.assign(num_goal=arr_de_ceros)\n",
    "    df_discriminando_movimientos = df_discriminando_movimientos.assign(es_el_esperado=arr_de_ceros_2)\n",
    "\n",
    "\n",
    "    num_movimiento = 1\n",
    "    num_de_goal = 1\n",
    "    es_real = False\n",
    "\n",
    "    for i, row in df_discriminando_movimientos.iterrows():\n",
    "        df_discriminando_movimientos.at[i, 'num_goal'] = num_de_goal\n",
    "        \n",
    "        ## primero vemos si es un marcador de movimiento (is_end_pose = 2)\n",
    "        if(row['is_end_pose'] == 2) :\n",
    "            num_movimiento = (row['move_id'] % 3) + 1\n",
    "            df_discriminando_movimientos.at[i,'num_goal'] = 0\n",
    "        else:\n",
    "            ## si no es marcador, es un dato y ahí vemos si es real o deseado\n",
    "            df_discriminando_movimientos.at[i, 'move_id'] = num_movimiento\n",
    "            if(not es_real) :\n",
    "                df_discriminando_movimientos.at[i, 'es_el_esperado'] = 1\n",
    "                es_real = True\n",
    "            else :\n",
    "                es_real = False\n",
    "                num_de_goal = num_de_goal + 1\n",
    "                if (row['is_end_pose'] == 1) :\n",
    "                    num_de_goal = 1\n",
    "\n",
    "    df_discriminando_movimientos = df_discriminando_movimientos.query('is_end_pose != 2')\n",
    "\n",
    "    return df_discriminando_movimientos\n"
   ]
  },
  {
   "cell_type": "code",
   "execution_count": 75,
   "metadata": {},
   "outputs": [],
   "source": [
    "df_entero_discriminando_movimientos = discriminar_movimientos_goals_reales_y_esperados(df_entero)\n",
    "\n",
    "df_list_movs = []\n",
    "\n",
    "for df in df_list :\n",
    "    df_list_movs.append(discriminar_movimientos_goals_reales_y_esperados(df))"
   ]
  },
  {
   "cell_type": "code",
   "execution_count": 57,
   "metadata": {},
   "outputs": [],
   "source": [
    "df_primer_mov = df_entero_discriminando_movimientos.query('move_id == 1')\n",
    "df_segundo_mov = df_entero_discriminando_movimientos.query('move_id == 2')\n",
    "df_tercer_mov = df_entero_discriminando_movimientos.query('move_id == 3')\n",
    "\n",
    "df_primer_mov_real = df_primer_mov.query('es_el_esperado == 0')\n",
    "df_primer_mov_esperado = df_primer_mov.query('es_el_esperado == 1')\n",
    "\n",
    "df_segundo_mov_real = df_segundo_mov.query('es_el_esperado == 0')\n",
    "df_segundo_mov_esperado = df_segundo_mov.query('es_el_esperado == 1')\n",
    "\n",
    "df_tercer_mov_real = df_tercer_mov.query('es_el_esperado == 0')\n",
    "df_tercer_mov_esperado = df_tercer_mov.query('es_el_esperado == 1')"
   ]
  },
  {
   "cell_type": "code",
   "execution_count": 58,
   "metadata": {},
   "outputs": [
    {
     "name": "stdout",
     "output_type": "stream",
     "text": [
      "1     10\n",
      "27    10\n",
      "21    10\n",
      "22    10\n",
      "23    10\n",
      "24    10\n",
      "25    10\n",
      "26    10\n",
      "28    10\n",
      "19    10\n",
      "29    10\n",
      "30    10\n",
      "31    10\n",
      "32    10\n",
      "33    10\n",
      "34    10\n",
      "20    10\n",
      "18    10\n",
      "2     10\n",
      "9     10\n",
      "3     10\n",
      "4     10\n",
      "5     10\n",
      "6     10\n",
      "7     10\n",
      "8     10\n",
      "10    10\n",
      "17    10\n",
      "11    10\n",
      "12    10\n",
      "13    10\n",
      "14    10\n",
      "15    10\n",
      "16    10\n",
      "35     8\n",
      "Name: num_goal, dtype: int64\n",
      "1     10\n",
      "2     10\n",
      "31    10\n",
      "32    10\n",
      "33    10\n",
      "34    10\n",
      "35    10\n",
      "36    10\n",
      "37    10\n",
      "38    10\n",
      "39    10\n",
      "40    10\n",
      "41    10\n",
      "42    10\n",
      "43    10\n",
      "44    10\n",
      "45    10\n",
      "46    10\n",
      "47    10\n",
      "48    10\n",
      "49    10\n",
      "50    10\n",
      "51    10\n",
      "52    10\n",
      "53    10\n",
      "54    10\n",
      "55    10\n",
      "30    10\n",
      "29    10\n",
      "28    10\n",
      "14    10\n",
      "3     10\n",
      "4     10\n",
      "5     10\n",
      "6     10\n",
      "7     10\n",
      "8     10\n",
      "9     10\n",
      "10    10\n",
      "11    10\n",
      "12    10\n",
      "13    10\n",
      "15    10\n",
      "27    10\n",
      "16    10\n",
      "17    10\n",
      "18    10\n",
      "19    10\n",
      "20    10\n",
      "21    10\n",
      "22    10\n",
      "23    10\n",
      "24    10\n",
      "25    10\n",
      "26    10\n",
      "56    10\n",
      "Name: num_goal, dtype: int64\n",
      "1     10\n",
      "17    10\n",
      "30    10\n",
      "29    10\n",
      "28    10\n",
      "27    10\n",
      "26    10\n",
      "25    10\n",
      "24    10\n",
      "23    10\n",
      "22    10\n",
      "21    10\n",
      "20    10\n",
      "19    10\n",
      "18    10\n",
      "16    10\n",
      "2     10\n",
      "15    10\n",
      "14    10\n",
      "13    10\n",
      "12    10\n",
      "11    10\n",
      "10    10\n",
      "9     10\n",
      "8     10\n",
      "7     10\n",
      "6     10\n",
      "5     10\n",
      "4     10\n",
      "3     10\n",
      "31     6\n",
      "Name: num_goal, dtype: int64\n"
     ]
    }
   ],
   "source": [
    "print(df_primer_mov_real.get('num_goal').value_counts())\n",
    "print(df_segundo_mov_real.get('num_goal').value_counts())\n",
    "print(df_tercer_mov_real.get('num_goal').value_counts())"
   ]
  },
  {
   "cell_type": "code",
   "execution_count": 59,
   "metadata": {},
   "outputs": [
    {
     "name": "stdout",
     "output_type": "stream",
     "text": [
      "          base  shoulder     elbow     pitch      roll  is_end_pose  move_id  \\\n",
      "69   -1.564455 -0.092048  1.044999 -1.021978  1.567160            1        1   \n",
      "316  -1.565445 -0.092754  1.044934 -1.022526  1.566996            1        1   \n",
      "561  -1.568108 -0.092631  1.045065 -1.019239  1.567323            1        1   \n",
      "808  -1.567971 -0.092662  1.044934 -1.019677  1.567160            1        1   \n",
      "1053 -1.565138 -0.092570  1.044901 -1.019677  1.567160            1        1   \n",
      "1300 -1.567220 -0.092508  1.044901 -1.019896  1.567323            1        1   \n",
      "1547 -1.566810 -0.092355  1.044736 -1.022416  1.566996            1        1   \n",
      "1792 -1.565718 -0.093215  1.044999 -1.019567  1.566996            1        1   \n",
      "2039 -1.565991 -0.092170  1.044901 -1.022690  1.567323            1        1   \n",
      "2282 -1.568142 -0.092293  1.044802 -1.021321  1.567160            1        1   \n",
      "\n",
      "      num_goal  es_el_esperado  \n",
      "69          35               0  \n",
      "316         35               0  \n",
      "561         35               0  \n",
      "808         35               0  \n",
      "1053        35               0  \n",
      "1300        35               0  \n",
      "1547        35               0  \n",
      "1792        34               0  \n",
      "2039        35               0  \n",
      "2282        34               0  \n"
     ]
    }
   ],
   "source": [
    "df_primer_mov_real = df_primer_mov_real.query('is_end_pose == 1')\n",
    "print(df_primer_mov_real)\n",
    "df_segundo_mov_real = df_segundo_mov_real.query('is_end_pose == 1')\n",
    "df_tercer_mov_real = df_tercer_mov_real.query('is_end_pose == 1')"
   ]
  },
  {
   "cell_type": "code",
   "execution_count": 60,
   "metadata": {},
   "outputs": [
    {
     "name": "stdout",
     "output_type": "stream",
     "text": [
      "          base  shoulder     elbow     pitch      roll  is_end_pose  move_id  \\\n",
      "68   -1.570809 -0.087169  1.047163 -1.038525  1.569490            1        1   \n",
      "315  -1.570857 -0.087256  1.047149 -1.038529  1.569406            1        1   \n",
      "560  -1.570765 -0.087278  1.047313 -1.038528  1.569491            1        1   \n",
      "807  -1.570862 -0.087234  1.047148 -1.038589  1.569433            1        1   \n",
      "1052 -1.570797 -0.087194  1.047173 -1.038536  1.569390            1        1   \n",
      "1299 -1.570935 -0.087165  1.047199 -1.038513  1.569505            1        1   \n",
      "1546 -1.570824 -0.087191  1.047167 -1.038542  1.569446            1        1   \n",
      "1791 -1.570842 -0.087302  1.047131 -1.038593  1.569448            1        1   \n",
      "2038 -1.570780 -0.087267  1.047165 -1.038497  1.569477            1        1   \n",
      "2281 -1.570809 -0.087169  1.047143 -1.038524  1.569541            1        1   \n",
      "\n",
      "      num_goal  es_el_esperado  \n",
      "68          35               1  \n",
      "315         35               1  \n",
      "560         35               1  \n",
      "807         35               1  \n",
      "1052        35               1  \n",
      "1299        35               1  \n",
      "1546        35               1  \n",
      "1791        34               1  \n",
      "2038        35               1  \n",
      "2281        34               1  \n"
     ]
    }
   ],
   "source": [
    "df_primer_mov_esperado = df_primer_mov_esperado.query('is_end_pose == 1')\n",
    "print(df_primer_mov_esperado)\n",
    "df_segundo_mov_esperado = df_segundo_mov_esperado.query('is_end_pose == 1')\n",
    "df_tercer_mov_esperado = df_tercer_mov_esperado.query('is_end_pose == 1')"
   ]
  },
  {
   "cell_type": "code",
   "execution_count": 61,
   "metadata": {},
   "outputs": [
    {
     "name": "stdout",
     "output_type": "stream",
     "text": [
      "          base  shoulder     elbow     pitch      roll\n",
      "69   -1.564455 -0.092048  1.044999 -1.021978  1.567160\n",
      "316  -1.565445 -0.092754  1.044934 -1.022526  1.566996\n",
      "561  -1.568108 -0.092631  1.045065 -1.019239  1.567323\n",
      "808  -1.567971 -0.092662  1.044934 -1.019677  1.567160\n",
      "1053 -1.565138 -0.092570  1.044901 -1.019677  1.567160\n",
      "1300 -1.567220 -0.092508  1.044901 -1.019896  1.567323\n",
      "1547 -1.566810 -0.092355  1.044736 -1.022416  1.566996\n",
      "1792 -1.565718 -0.093215  1.044999 -1.019567  1.566996\n",
      "2039 -1.565991 -0.092170  1.044901 -1.022690  1.567323\n",
      "2282 -1.568142 -0.092293  1.044802 -1.021321  1.567160\n",
      "          base  shoulder     elbow     pitch      roll\n",
      "68   -1.570809 -0.087169  1.047163 -1.038525  1.569490\n",
      "315  -1.570857 -0.087256  1.047149 -1.038529  1.569406\n",
      "560  -1.570765 -0.087278  1.047313 -1.038528  1.569491\n",
      "807  -1.570862 -0.087234  1.047148 -1.038589  1.569433\n",
      "1052 -1.570797 -0.087194  1.047173 -1.038536  1.569390\n",
      "1299 -1.570935 -0.087165  1.047199 -1.038513  1.569505\n",
      "1546 -1.570824 -0.087191  1.047167 -1.038542  1.569446\n",
      "1791 -1.570842 -0.087302  1.047131 -1.038593  1.569448\n",
      "2038 -1.570780 -0.087267  1.047165 -1.038497  1.569477\n",
      "2281 -1.570809 -0.087169  1.047143 -1.038524  1.569541\n"
     ]
    }
   ],
   "source": [
    "df_primer_mov_real_juntas = df_primer_mov_real.drop(['is_end_pose','move_id','num_goal','es_el_esperado'],axis='columns')\n",
    "print(df_primer_mov_real_juntas)\n",
    "df_segundo_mov_real_juntas = df_segundo_mov_real.drop(['is_end_pose','move_id','num_goal','es_el_esperado'],axis='columns')\n",
    "df_tercer_mov_real_juntas = df_tercer_mov_real.drop(['is_end_pose','move_id','num_goal','es_el_esperado'],axis='columns')\n",
    "\n",
    "df_primer_mov_esperado_juntas = df_primer_mov_esperado.drop(['is_end_pose','move_id','num_goal','es_el_esperado'],axis='columns')\n",
    "print(df_primer_mov_esperado_juntas)\n",
    "df_segundo_mov_esperado_juntas = df_segundo_mov_esperado.drop(['is_end_pose','move_id','num_goal','es_el_esperado'],axis='columns')\n",
    "df_tercer_mov_esperado_juntas = df_tercer_mov_esperado.drop(['is_end_pose','move_id','num_goal','es_el_esperado'],axis='columns')\n"
   ]
  },
  {
   "cell_type": "code",
   "execution_count": 62,
   "metadata": {},
   "outputs": [
    {
     "name": "stdout",
     "output_type": "stream",
     "text": [
      "       base  shoulder     elbow     pitch      roll\n",
      "0 -0.006354  0.004879  0.002164 -0.016547  0.002330\n",
      "1 -0.005412  0.005498  0.002215 -0.016003  0.002410\n",
      "2 -0.002657  0.005353  0.002248 -0.019289  0.002168\n",
      "3 -0.002891  0.005428  0.002214 -0.018912  0.002273\n",
      "4 -0.005659  0.005376  0.002272 -0.018859  0.002230\n",
      "5 -0.003715  0.005343  0.002298 -0.018617  0.002182\n",
      "6 -0.004014  0.005164  0.002431 -0.016126  0.002450\n",
      "7 -0.005124  0.005913  0.002132 -0.019026  0.002452\n",
      "8 -0.004789  0.004903  0.002264 -0.015807  0.002154\n",
      "9 -0.002667  0.005124  0.002341 -0.017203  0.002381\n"
     ]
    }
   ],
   "source": [
    "df_error_primer_mov = df_primer_mov_esperado_juntas.reset_index(drop=True) - df_primer_mov_real_juntas.reset_index(drop=True)\n",
    "print(df_error_primer_mov)\n",
    "df_error_segundo_mov = df_segundo_mov_esperado_juntas.reset_index(drop=True) - df_segundo_mov_real_juntas.reset_index(drop=True)\n",
    "df_error_tercer_mov = df_primer_mov_esperado_juntas.reset_index(drop=True) - df_primer_mov_real_juntas.reset_index(drop=True)"
   ]
  },
  {
   "cell_type": "code",
   "execution_count": 63,
   "metadata": {},
   "outputs": [],
   "source": [
    "df_error_primer_mov_avg = df_error_primer_mov.abs().mean()\n",
    "df_error_primer_mov_var = df_error_primer_mov.abs().var()\n",
    "\n",
    "df_error_segundo_mov_avg = df_error_segundo_mov.abs().mean()\n",
    "df_error_segundo_mov_var = df_error_segundo_mov.abs().var()\n",
    "\n",
    "df_error_tercer_mov_avg = df_error_tercer_mov.abs().mean()\n",
    "df_error_tercer_mov_var = df_error_tercer_mov.abs().var()\n"
   ]
  },
  {
   "cell_type": "code",
   "execution_count": null,
   "metadata": {},
   "outputs": [],
   "source": []
  },
  {
   "cell_type": "code",
   "execution_count": 65,
   "metadata": {},
   "outputs": [
    {
     "name": "stdout",
     "output_type": "stream",
     "text": [
      "                 1         2         3\n",
      "base      0.004328  0.006654  0.004328\n",
      "shoulder  0.005298  0.005380  0.005298\n",
      "elbow     0.002258  0.000194  0.002258\n",
      "pitch     0.017639  0.018848  0.017639\n",
      "roll      0.002303  0.000717  0.002303\n"
     ]
    },
    {
     "data": {
      "text/plain": [
       "<matplotlib.lines.Line2D at 0x7fdd1320eeb0>"
      ]
     },
     "execution_count": 65,
     "metadata": {},
     "output_type": "execute_result"
    },
    {
     "data": {
      "image/png": "[encoded data removed]",
      "text/plain": [
       "<Figure size 640x480 with 1 Axes>"
      ]
     },
     "metadata": {},
     "output_type": "display_data"
    }
   ],
   "source": [
    "df_errores_avg = pd.concat([df_error_primer_mov_avg.rename('1'), df_error_segundo_mov_avg.rename('2'), df_error_tercer_mov_avg.rename('3')], axis=1)\n",
    "print(df_errores_avg)\n",
    "\n",
    "df_errores_avg.plot(kind='bar')\n",
    "plot.title(\"Error promedio de las articulaciones en 3 movimientos con una tolerancia de 0.05\")\n",
    "plot.ylabel(\"Error Promedio\")\n",
    "plot.xlabel(\"Articulación\")\n",
    "plot.xticks(rotation=45, horizontalalignment=\"center\")\n",
    "plot.axhline(y=0.020, linewidth=1, color='red')\n"
   ]
  }
 ],
 "metadata": {
  "kernelspec": {
   "display_name": "Python 3",
   "language": "python",
   "name": "python3"
  },
  "language_info": {
   "codemirror_mode": {
    "name": "ipython",
    "version": 3
   },
   "file_extension": ".py",
   "mimetype": "text/x-python",
   "name": "python",
   "nbconvert_exporter": "python",
   "pygments_lexer": "ipython3",
   "version": "3.8.10"
  }
 },
 "nbformat": 4,
 "nbformat_minor": 2
}
